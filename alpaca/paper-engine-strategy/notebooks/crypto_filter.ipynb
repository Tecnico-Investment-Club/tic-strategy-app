{
 "cells": [
  {
   "cell_type": "code",
   "id": "initial_id",
   "metadata": {
    "collapsed": true,
    "ExecuteTime": {
     "end_time": "2025-05-04T00:03:58.832577Z",
     "start_time": "2025-05-04T00:03:58.826104Z"
    }
   },
   "source": [
    "import json\n",
    "\n",
    "from crypto_symbols import symbols"
   ],
   "outputs": [],
   "execution_count": 4
  },
  {
   "metadata": {
    "ExecuteTime": {
     "end_time": "2025-05-04T00:03:59.141660Z",
     "start_time": "2025-05-04T00:03:59.130946Z"
    }
   },
   "cell_type": "code",
   "source": "s = json.loads(symbols)",
   "id": "9f742bc308e2dcd9",
   "outputs": [],
   "execution_count": 5
  },
  {
   "metadata": {
    "ExecuteTime": {
     "end_time": "2025-05-04T00:04:42.499005Z",
     "start_time": "2025-05-04T00:04:42.489112Z"
    }
   },
   "cell_type": "code",
   "source": "ss = [e['symbol'] for e in s]",
   "id": "982801ca2da9b631",
   "outputs": [],
   "execution_count": 7
  },
  {
   "metadata": {
    "ExecuteTime": {
     "end_time": "2025-05-04T00:08:43.304229Z",
     "start_time": "2025-05-04T00:08:43.298554Z"
    }
   },
   "cell_type": "code",
   "source": [
    "usdc = [e for e in ss if e[-4:] == 'USDC']\n",
    "usdc"
   ],
   "id": "60ac61d4c484af38",
   "outputs": [
    {
     "data": {
      "text/plain": [
       "['AVAX/USDC',\n",
       " 'XTZ/USDC',\n",
       " 'SUSHI/USDC',\n",
       " 'DOGE/USDC',\n",
       " 'LINK/USDC',\n",
       " 'LTC/USDC',\n",
       " 'GRT/USDC',\n",
       " 'CRV/USDC',\n",
       " 'DOT/USDC',\n",
       " 'AAVE/USDC',\n",
       " 'BAT/USDC',\n",
       " 'USDT/USDC',\n",
       " 'SOL/USDC',\n",
       " 'MKR/USDC',\n",
       " 'UNI/USDC',\n",
       " 'YFI/USDC',\n",
       " 'ETH/USDC',\n",
       " 'BTC/USDC',\n",
       " 'BCH/USDC',\n",
       " 'SHIB/USDC']"
      ]
     },
     "execution_count": 18,
     "metadata": {},
     "output_type": "execute_result"
    }
   ],
   "execution_count": 18
  },
  {
   "metadata": {
    "ExecuteTime": {
     "end_time": "2025-05-04T00:08:33.003378Z",
     "start_time": "2025-05-04T00:08:32.999313Z"
    }
   },
   "cell_type": "code",
   "source": [
    "usdt = [e for e in ss if e[-4:] == 'USDT']\n",
    "usdt"
   ],
   "id": "5efeb9a33506617d",
   "outputs": [
    {
     "data": {
      "text/plain": [
       "['YFI/USDT',\n",
       " 'SUSHI/USDT',\n",
       " 'AVAX/USDT',\n",
       " 'BCH/USDT',\n",
       " 'DOGE/USDT',\n",
       " 'BTC/USDT',\n",
       " 'ETH/USDT',\n",
       " 'AAVE/USDT',\n",
       " 'UNI/USDT',\n",
       " 'LTC/USDT',\n",
       " 'SOL/USDT',\n",
       " 'SHIB/USDT',\n",
       " 'LINK/USDT']"
      ]
     },
     "execution_count": 17,
     "metadata": {},
     "output_type": "execute_result"
    }
   ],
   "execution_count": 17
  },
  {
   "metadata": {
    "ExecuteTime": {
     "end_time": "2025-05-04T03:18:34.949276Z",
     "start_time": "2025-05-04T03:18:34.943777Z"
    }
   },
   "cell_type": "code",
   "source": [
    "usd = [e for e in ss if e[-3:] == 'USD']\n",
    "usd"
   ],
   "id": "b58d33aec64afda6",
   "outputs": [
    {
     "data": {
      "text/plain": [
       "['XRP/USD',\n",
       " 'TRUMP/USD',\n",
       " 'AVAX/USD',\n",
       " 'DOT/USD',\n",
       " 'LINK/USD',\n",
       " 'PEPE/USD',\n",
       " 'DOGE/USD',\n",
       " 'AAVE/USD',\n",
       " 'USDT/USD',\n",
       " 'BTC/USD',\n",
       " 'CRV/USD',\n",
       " 'YFI/USD',\n",
       " 'LTC/USD',\n",
       " 'SUSHI/USD',\n",
       " 'UNI/USD',\n",
       " 'GRT/USD',\n",
       " 'ETH/USD',\n",
       " 'USDC/USD',\n",
       " 'XTZ/USD',\n",
       " 'BCH/USD',\n",
       " 'BAT/USD',\n",
       " 'MKR/USD',\n",
       " 'SOL/USD',\n",
       " 'SHIB/USD']"
      ]
     },
     "execution_count": 19,
     "metadata": {},
     "output_type": "execute_result"
    }
   ],
   "execution_count": 19
  }
 ],
 "metadata": {
  "kernelspec": {
   "display_name": "Python 3",
   "language": "python",
   "name": "python3"
  },
  "language_info": {
   "codemirror_mode": {
    "name": "ipython",
    "version": 2
   },
   "file_extension": ".py",
   "mimetype": "text/x-python",
   "name": "python",
   "nbconvert_exporter": "python",
   "pygments_lexer": "ipython2",
   "version": "2.7.6"
  }
 },
 "nbformat": 4,
 "nbformat_minor": 5
}
